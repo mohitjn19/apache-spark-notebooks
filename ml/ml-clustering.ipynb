{
 "cells": [
  {
   "cell_type": "code",
   "execution_count": 31,
   "metadata": {},
   "outputs": [],
   "source": [
    "from pyspark.sql import SparkSession\n",
    "from pyspark.sql.types import StructField, StructType, StringType\n",
    "change = 2"
   ]
  },
  {
   "cell_type": "code",
   "execution_count": 32,
   "metadata": {},
   "outputs": [],
   "source": [
    "spark = SparkSession.builder.appName('pyspark-training-spark-ml').master('local[2]').getOrCreate()"
   ]
  },
  {
   "cell_type": "code",
   "execution_count": 33,
   "metadata": {},
   "outputs": [],
   "source": [
    "columns=[\"ID\", \"Title\", \"ReleaseDate\", \"VideoReleaseDate\", \"IMDB\", \"Unknown\", \"Action\", \"Adventure\",\n",
    "         \"Animation\", \"Children\", \"Comedy\", \"Crime\", \"Documentary\", \"Drama\", \"Fantasy\", \"FilmNoir\",\n",
    "         \"Horror\", \"Musical\", \"Mystery\", \"Romance\", \"SciFi\", \"Thriller\", \"War\", \"Western\"]"
   ]
  },
  {
   "cell_type": "code",
   "execution_count": 34,
   "metadata": {},
   "outputs": [],
   "source": [
    "schema = StructType([StructField(col, StringType(), True) for col in columns])"
   ]
  },
  {
   "cell_type": "code",
   "execution_count": 55,
   "metadata": {},
   "outputs": [],
   "source": [
    "df = spark.read.schema(schema).option('delimiter', '|').csv('D:\\\\data\\\\movies')\\\n",
    "     .drop('IMDB', 'VideoReleaseDate', 'ReleaseDate', 'ID').dropDuplicates()"
   ]
  },
  {
   "cell_type": "code",
   "execution_count": 53,
   "metadata": {
    "scrolled": true
   },
   "outputs": [
    {
     "data": {
      "text/plain": [
       "1682"
      ]
     },
     "execution_count": 53,
     "metadata": {},
     "output_type": "execute_result"
    }
   ],
   "source": [
    "df.count()"
   ]
  },
  {
   "cell_type": "code",
   "execution_count": 38,
   "metadata": {},
   "outputs": [
    {
     "name": "stdout",
     "output_type": "stream",
     "text": [
      "+-------+--------------------+--------------------+-------------------+-------------------+--------------------+-------------------+-------------------+-------------------+--------------------+-------------------+--------------------+--------------------+--------------------+-------------------+--------------------+------------------+-------------------+-------------------+-------------------+-------------------+\n",
      "|summary|               Title|             Unknown|             Action|          Adventure|           Animation|           Children|             Comedy|              Crime|         Documentary|              Drama|             Fantasy|            FilmNoir|              Horror|            Musical|             Mystery|           Romance|              SciFi|           Thriller|                War|            Western|\n",
      "+-------+--------------------+--------------------+-------------------+-------------------+--------------------+-------------------+-------------------+-------------------+--------------------+-------------------+--------------------+--------------------+--------------------+-------------------+--------------------+------------------+-------------------+-------------------+-------------------+-------------------+\n",
      "|  count|                1664|                1664|               1664|               1664|                1664|               1664|               1664|               1664|                1664|               1664|                1664|                1664|                1664|               1664|                1664|              1664|               1664|               1664|               1664|               1664|\n",
      "|   mean|                null|0.001201923076923077|0.14963942307692307|0.07992788461538461|0.025240384615384616|0.07211538461538461| 0.3016826923076923|0.06430288461538461|0.030048076923076924|0.43028846153846156|0.013221153846153846|0.014423076923076924|0.054086538461538464|0.03365384615384615|0.036057692307692304|0.1466346153846154|0.06009615384615385|0.14903846153846154|0.04266826923076923|0.01622596153846154|\n",
      "| stddev|                null| 0.03465833713611173|0.35682486313989986|0.27126304358146736| 0.15690156829166338| 0.2587566294666413|0.45912626402201756|0.24536545000593904| 0.17077094503098186|  0.495265292429041| 0.11425497805019763| 0.11926273354008321| 0.22625637938264173|0.18039074414862505| 0.18648977354085877|0.3538476370391871|0.23773634898098714| 0.3562334373683292|0.20216886674824644| 0.1263814797968252|\n",
      "|    min|'Til There Was Yo...|                   0|                  0|                  0|                   0|                  0|                  0|                  0|                   0|                  0|                   0|                   0|                   0|                  0|                   0|                 0|                  0|                  0|                  0|                  0|\n",
      "|    25%|                null|                 0.0|                0.0|                0.0|                 0.0|                0.0|                0.0|                0.0|                 0.0|                0.0|                 0.0|                 0.0|                 0.0|                0.0|                 0.0|               0.0|                0.0|                0.0|                0.0|                0.0|\n",
      "|    50%|                null|                 0.0|                0.0|                0.0|                 0.0|                0.0|                0.0|                0.0|                 0.0|                0.0|                 0.0|                 0.0|                 0.0|                0.0|                 0.0|               0.0|                0.0|                0.0|                0.0|                0.0|\n",
      "|    75%|                null|                 0.0|                0.0|                0.0|                 0.0|                0.0|                1.0|                0.0|                 0.0|                1.0|                 0.0|                 0.0|                 0.0|                0.0|                 0.0|               0.0|                0.0|                0.0|                0.0|                0.0|\n",
      "|    max|Á köldum klaka (C...|                   1|                  1|                  1|                   1|                  1|                  1|                  1|                   1|                  1|                   1|                   1|                   1|                  1|                   1|                 1|                  1|                  1|                  1|                  1|\n",
      "+-------+--------------------+--------------------+-------------------+-------------------+--------------------+-------------------+-------------------+-------------------+--------------------+-------------------+--------------------+--------------------+--------------------+-------------------+--------------------+------------------+-------------------+-------------------+-------------------+-------------------+\n",
      "\n"
     ]
    }
   ],
   "source": [
    "df.summary().show()"
   ]
  },
  {
   "cell_type": "markdown",
   "metadata": {},
   "source": [
    "### Analyze data"
   ]
  },
  {
   "cell_type": "code",
   "execution_count": 56,
   "metadata": {},
   "outputs": [
    {
     "name": "stdout",
     "output_type": "stream",
     "text": [
      "Title 1664\n",
      "Unknown 2\n",
      "Action 2\n",
      "Adventure 2\n",
      "Animation 2\n",
      "Children 2\n",
      "Comedy 2\n",
      "Crime 2\n",
      "Documentary 2\n",
      "Drama 2\n",
      "Fantasy 2\n",
      "FilmNoir 2\n",
      "Horror 2\n",
      "Musical 2\n",
      "Mystery 2\n",
      "Romance 2\n",
      "SciFi 2\n",
      "Thriller 2\n",
      "War 2\n",
      "Western 2\n"
     ]
    }
   ],
   "source": [
    "for col in df.columns:\n",
    "    print(col, df.select(col).distinct().count())"
   ]
  },
  {
   "cell_type": "markdown",
   "metadata": {},
   "source": [
    "### Feature engineering"
   ]
  },
  {
   "cell_type": "code",
   "execution_count": 41,
   "metadata": {},
   "outputs": [],
   "source": [
    "from pyspark.ml.feature import StringIndexer\n",
    "from pyspark.ml.feature import OneHotEncoder\n",
    "from pyspark.ml.feature import VectorAssembler\n",
    "from pyspark.ml import Pipeline\n",
    "from pyspark.ml.feature import StandardScaler\n",
    "from pyspark.ml.evaluation import MulticlassClassificationEvaluator"
   ]
  },
  {
   "cell_type": "markdown",
   "metadata": {},
   "source": [
    "#### assembling all the features using a vector assembler"
   ]
  },
  {
   "cell_type": "code",
   "execution_count": 57,
   "metadata": {},
   "outputs": [],
   "source": [
    "categorical_columns = df.drop('Title').columns"
   ]
  },
  {
   "cell_type": "code",
   "execution_count": 58,
   "metadata": {},
   "outputs": [],
   "source": [
    "stages = []\n",
    "indexers = [\n",
    "     StringIndexer(inputCol=c, outputCol='{0}_indexed'.format(c))\n",
    "     for c in categorical_columns\n",
    "   ]\n",
    "stages += indexers"
   ]
  },
  {
   "cell_type": "code",
   "execution_count": 62,
   "metadata": {},
   "outputs": [],
   "source": [
    "assembler_input_cols = [indexer.getOutputCol() for indexer in indexers]\n",
    "assembler = VectorAssembler(inputCols=assembler_input_cols, outputCol=\"features\")\n",
    "stages += [assembler]"
   ]
  },
  {
   "cell_type": "markdown",
   "metadata": {},
   "source": [
    "#### creating a pipeline to perform all the stages"
   ]
  },
  {
   "cell_type": "code",
   "execution_count": 63,
   "metadata": {},
   "outputs": [],
   "source": [
    "pipeline = Pipeline().setStages(stages)\n",
    "assembled = pipeline.fit(df)\n",
    "df_assembled = assembled.transform(df)"
   ]
  },
  {
   "cell_type": "code",
   "execution_count": 64,
   "metadata": {},
   "outputs": [],
   "source": [
    "df_vectorized = df_assembled.select('Title', 'features')"
   ]
  },
  {
   "cell_type": "code",
   "execution_count": 65,
   "metadata": {},
   "outputs": [],
   "source": [
    "df_train, df_test = df_vectorized.randomSplit([0.7, 0.3], seed=42)"
   ]
  },
  {
   "cell_type": "markdown",
   "metadata": {},
   "source": [
    "#### Kmeans"
   ]
  },
  {
   "cell_type": "code",
   "execution_count": 66,
   "metadata": {},
   "outputs": [],
   "source": [
    "from pyspark.ml.clustering import KMeans"
   ]
  },
  {
   "cell_type": "code",
   "execution_count": 74,
   "metadata": {},
   "outputs": [],
   "source": [
    "kmeans = KMeans(featuresCol=\"features\", k=10, seed=1)"
   ]
  },
  {
   "cell_type": "code",
   "execution_count": 75,
   "metadata": {},
   "outputs": [],
   "source": [
    "model = kmeans.fit(df_train)"
   ]
  },
  {
   "cell_type": "code",
   "execution_count": 81,
   "metadata": {},
   "outputs": [],
   "source": [
    "df_train_pred = model.transform(df_train)"
   ]
  },
  {
   "cell_type": "markdown",
   "metadata": {},
   "source": [
    "### Evaluate model"
   ]
  },
  {
   "cell_type": "code",
   "execution_count": 79,
   "metadata": {},
   "outputs": [],
   "source": [
    "from pyspark.ml.evaluation import ClusteringEvaluator"
   ]
  },
  {
   "cell_type": "code",
   "execution_count": 82,
   "metadata": {},
   "outputs": [],
   "source": [
    "evaluator = ClusteringEvaluator()"
   ]
  },
  {
   "cell_type": "code",
   "execution_count": 83,
   "metadata": {},
   "outputs": [],
   "source": [
    "silhouette = evaluator.evaluate(df_train_pred)"
   ]
  },
  {
   "cell_type": "code",
   "execution_count": 84,
   "metadata": {},
   "outputs": [
    {
     "data": {
      "text/plain": [
       "0.40649236618016893"
      ]
     },
     "execution_count": 84,
     "metadata": {},
     "output_type": "execute_result"
    }
   ],
   "source": [
    "silhouette"
   ]
  },
  {
   "cell_type": "code",
   "execution_count": 85,
   "metadata": {},
   "outputs": [],
   "source": [
    "kmeans_pred = model.transform(df_test)"
   ]
  },
  {
   "cell_type": "code",
   "execution_count": 86,
   "metadata": {},
   "outputs": [
    {
     "name": "stdout",
     "output_type": "stream",
     "text": [
      "+--------------------+--------------------+----------+\n",
      "|               Title|            features|prediction|\n",
      "+--------------------+--------------------+----------+\n",
      "|101 Dalmatians (1...|(19,[4,5],[1.0,1.0])|         1|\n",
      "|20,000 Leagues Un...|(19,[2,4,9,15],[1...|         5|\n",
      "|3 Ninjas: High No...|(19,[1,4],[1.0,1.0])|         9|\n",
      "|39 Steps, The (1935)|     (19,[16],[1.0])|         3|\n",
      "|A Chef in Love (1...|      (19,[5],[1.0])|         1|\n",
      "|Above the Rim (1994)|      (19,[8],[1.0])|         0|\n",
      "|Absolute Power (1...|(19,[13,16],[1.0,...|         3|\n",
      "|Across the Sea of...|      (19,[7],[1.0])|         0|\n",
      "|Addicted to Love ...|(19,[5,14],[1.0,1...|         4|\n",
      "|Adventures of Pin...|(19,[2,4],[1.0,1.0])|         5|\n",
      "|Adventures of Pri...|(19,[5,8],[1.0,1.0])|         0|\n",
      "|    Afterglow (1997)|(19,[8,14],[1.0,1...|         6|\n",
      "|Age of Innocence,...|      (19,[8],[1.0])|         0|\n",
      "|Aiqing wansui (1994)|      (19,[8],[1.0])|         0|\n",
      "|Air Force One (1997)|(19,[1,16],[1.0,1...|         9|\n",
      "|     Airheads (1994)|      (19,[5],[1.0])|         1|\n",
      "|        Akira (1988)|(19,[2,3,15,16],[...|         2|\n",
      "|Albino Alligator ...|(19,[6,16],[1.0,1...|         3|\n",
      "|      Alien 3 (1992)|(19,[1,11,15,16],...|         9|\n",
      "|Alien: Resurrecti...|(19,[1,11,15],[1....|         9|\n",
      "+--------------------+--------------------+----------+\n",
      "only showing top 20 rows\n",
      "\n"
     ]
    }
   ],
   "source": [
    "kmeans_pred.show()"
   ]
  },
  {
   "cell_type": "code",
   "execution_count": 87,
   "metadata": {},
   "outputs": [
    {
     "data": {
      "text/plain": [
       "0.3862688319253551"
      ]
     },
     "execution_count": 87,
     "metadata": {},
     "output_type": "execute_result"
    }
   ],
   "source": [
    "evaluator.evaluate(kmeans_pred)"
   ]
  }
 ],
 "metadata": {
  "kernelspec": {
   "display_name": "Python 3",
   "language": "python",
   "name": "python3"
  },
  "language_info": {
   "codemirror_mode": {
    "name": "ipython",
    "version": 3
   },
   "file_extension": ".py",
   "mimetype": "text/x-python",
   "name": "python",
   "nbconvert_exporter": "python",
   "pygments_lexer": "ipython3",
   "version": "3.7.6"
  }
 },
 "nbformat": 4,
 "nbformat_minor": 4
}
